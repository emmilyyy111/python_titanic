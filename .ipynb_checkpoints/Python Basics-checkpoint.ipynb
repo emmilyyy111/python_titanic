{
 "cells": [
  {
   "cell_type": "code",
   "execution_count": 1,
   "id": "6dc1df64",
   "metadata": {},
   "outputs": [],
   "source": [
    "str = 'Hello Boca Code!'"
   ]
  },
  {
   "cell_type": "code",
   "execution_count": 2,
   "id": "90aabec3",
   "metadata": {},
   "outputs": [
    {
     "data": {
      "text/plain": [
       "'Hello Boca Code!'"
      ]
     },
     "execution_count": 2,
     "metadata": {},
     "output_type": "execute_result"
    }
   ],
   "source": [
    "str"
   ]
  },
  {
   "cell_type": "code",
   "execution_count": 3,
   "id": "34ea8702",
   "metadata": {},
   "outputs": [
    {
     "name": "stdout",
     "output_type": "stream",
     "text": [
      "Hello Boca Code!\n"
     ]
    }
   ],
   "source": [
    "print(str)"
   ]
  },
  {
   "cell_type": "code",
   "execution_count": 4,
   "id": "5ce5a500",
   "metadata": {},
   "outputs": [
    {
     "data": {
      "text/plain": [
       "2401"
      ]
     },
     "execution_count": 4,
     "metadata": {},
     "output_type": "execute_result"
    }
   ],
   "source": [
    "7 ** 4"
   ]
  },
  {
   "cell_type": "code",
   "execution_count": 5,
   "id": "6c1a94b9",
   "metadata": {},
   "outputs": [],
   "source": [
    "planet = \"Earth\"\n",
    "diameter = 12742"
   ]
  },
  {
   "cell_type": "code",
   "execution_count": 6,
   "id": "6c5e18b6",
   "metadata": {},
   "outputs": [
    {
     "name": "stdout",
     "output_type": "stream",
     "text": [
      "The diameter of Earth is 12742 kilometer\n"
     ]
    }
   ],
   "source": [
    "print('The diameter of {} is {} kilometers.'.format(planet, diameter))"
   ]
  },
  {
   "cell_type": "code",
   "execution_count": 7,
   "id": "0b712fee",
   "metadata": {},
   "outputs": [
    {
     "name": "stdout",
     "output_type": "stream",
     "text": [
      "The diameter of Earth is 12742 kilometers.\n"
     ]
    }
   ],
   "source": [
    "print(f'The diameter of {planet} is {diameter} kilometers.')"
   ]
  },
  {
   "cell_type": "code",
   "execution_count": 8,
   "id": "d19b13d9",
   "metadata": {},
   "outputs": [
    {
     "ename": "SyntaxError",
     "evalue": "invalid syntax (<ipython-input-8-d51696aefeaa>, line 2)",
     "output_type": "error",
     "traceback": [
      "\u001b[0;36m  File \u001b[0;32m\"<ipython-input-8-d51696aefeaa>\"\u001b[0;36m, line \u001b[0;32m2\u001b[0m\n\u001b[0;31m    meddedup = [4:3]\u001b[0m\n\u001b[0m                 ^\u001b[0m\n\u001b[0;31mSyntaxError\u001b[0m\u001b[0;31m:\u001b[0m invalid syntax\n"
     ]
    }
   ],
   "source": [
    "messedup = [1,2,[3,4],[5,[100, 200,['hello']],23,11],1,7]\n",
    "meddedup = [4:3]"
   ]
  },
  {
   "cell_type": "code",
   "execution_count": 9,
   "id": "838fdb44",
   "metadata": {},
   "outputs": [
    {
     "data": {
      "text/plain": [
       "'hello'"
      ]
     },
     "execution_count": 9,
     "metadata": {},
     "output_type": "execute_result"
    }
   ],
   "source": [
    "messedup = [1,2,[3,4],[5,[100, 200,['hello']],23,11],1,7]\n",
    "messedup[3][1][2][0]"
   ]
  },
  {
   "cell_type": "markdown",
   "id": "6cda1c45",
   "metadata": {},
   "source": [
    "## Challenge\n",
    "you're driving too fast! an Officer stops you. Write a function to return one of 3 possible results: \"No Tickets\", \"Small ticket\", or \"Big ticket\". If your speed is 60 or less, the result is \"No ticket\". If speed is between 61 and 80 inclusive, the results is \"Small ticket\". If speed is 81 or more, the result is \"Big ticket\" unless it is your birthday. If it is your birthday (passed a boolean), your speed can be 5mph faster in all cases."
   ]
  },
  {
   "cell_type": "code",
   "execution_count": 18,
   "id": "b4fb2f36",
   "metadata": {},
   "outputs": [],
   "source": [
    "def caught_speeding(speed, is_birthday):\n",
    "    if is_birthday:\n",
    "        effective_speed = speed - 10\n",
    "    else:\n",
    "        effective_speed = speed\n",
    "    if effective_speed > 80:\n",
    "        return \"Big ticket\"\n",
    "    elif effective_speed > 60:\n",
    "        return \"Small ticket\"\n",
    "    else:\n",
    "        return 'No ticket'"
   ]
  },
  {
   "cell_type": "code",
   "execution_count": 11,
   "id": "ddd62d1b",
   "metadata": {},
   "outputs": [
    {
     "ename": "NameError",
     "evalue": "name 'true' is not defined",
     "output_type": "error",
     "traceback": [
      "\u001b[0;31m---------------------------------------------------------------------------\u001b[0m",
      "\u001b[0;31mNameError\u001b[0m                                 Traceback (most recent call last)",
      "\u001b[0;32m<ipython-input-11-a55d70952be1>\u001b[0m in \u001b[0;36m<module>\u001b[0;34m\u001b[0m\n\u001b[0;32m----> 1\u001b[0;31m \u001b[0mcaught_speeding\u001b[0m\u001b[0;34m(\u001b[0m\u001b[0;36m81\u001b[0m\u001b[0;34m,\u001b[0m \u001b[0mtrue\u001b[0m\u001b[0;34m)\u001b[0m \u001b[0;31m#this should return \"small ticket\"\u001b[0m\u001b[0;34m\u001b[0m\u001b[0;34m\u001b[0m\u001b[0m\n\u001b[0m",
      "\u001b[0;31mNameError\u001b[0m: name 'true' is not defined"
     ]
    }
   ],
   "source": [
    "caught_speeding(81, true) #this should return \"small ticket\""
   ]
  },
  {
   "cell_type": "code",
   "execution_count": 19,
   "id": "6cba7140",
   "metadata": {},
   "outputs": [
    {
     "data": {
      "text/plain": [
       "'Small ticket'"
      ]
     },
     "execution_count": 19,
     "metadata": {},
     "output_type": "execute_result"
    }
   ],
   "source": [
    "caught_speeding(81, True) #this should return \"small ticket\""
   ]
  },
  {
   "cell_type": "code",
   "execution_count": 20,
   "id": "806d94b6",
   "metadata": {},
   "outputs": [
    {
     "data": {
      "text/plain": [
       "'Big ticket'"
      ]
     },
     "execution_count": 20,
     "metadata": {},
     "output_type": "execute_result"
    }
   ],
   "source": [
    "caught_speeding(81, False) # this should return \"big ticket\""
   ]
  },
  {
   "cell_type": "code",
   "execution_count": null,
   "id": "785c57fb",
   "metadata": {},
   "outputs": [],
   "source": []
  }
 ],
 "metadata": {
  "kernelspec": {
   "display_name": "Python 3",
   "language": "python",
   "name": "python3"
  },
  "language_info": {
   "codemirror_mode": {
    "name": "ipython",
    "version": 3
   },
   "file_extension": ".py",
   "mimetype": "text/x-python",
   "name": "python",
   "nbconvert_exporter": "python",
   "pygments_lexer": "ipython3",
   "version": "3.8.8"
  }
 },
 "nbformat": 4,
 "nbformat_minor": 5
}
